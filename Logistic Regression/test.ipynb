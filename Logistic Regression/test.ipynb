{
 "cells": [
  {
   "cell_type": "code",
   "execution_count": 3,
   "metadata": {},
   "outputs": [
    {
     "name": "stdout",
     "output_type": "stream",
     "text": [
      "Accuracy: 0.6709039548022598\n"
     ]
    }
   ],
   "source": [
    "import pandas as pd\n",
    "from sklearn.model_selection import train_test_split\n",
    "from sklearn.linear_model import LogisticRegression\n",
    "from sklearn.metrics import accuracy_score, classification_report\n",
    "from sklearn.preprocessing import LabelEncoder\n",
    "\n",
    "# Load the dataset\n",
    "file_path = 'Customer-survey-data.csv'\n",
    "data = pd.read_csv(file_path)\n",
    "\n",
    "# Renaming columns for easier access\n",
    "data.columns = [\n",
    "    'Customer', 'Delivery_Experience', 'Food_Quality', 'Delivery_Speed', 'Order_Accuracy'\n",
    "]\n",
    "\n",
    "# Drop the Customer column as it's not needed for model training\n",
    "data = data.drop(columns=['Customer'])\n",
    "\n",
    "# Encoding the target variable 'Order_Accuracy' (Yes -> 1, No -> 0)\n",
    "label_encoder = LabelEncoder()\n",
    "data['Order_Accuracy'] = label_encoder.fit_transform(data['Order_Accuracy'])\n",
    "\n",
    "# Splitting the data into features and target\n",
    "X = data[['Delivery_Experience', 'Food_Quality', 'Delivery_Speed']]\n",
    "y = data['Order_Accuracy']\n",
    "\n",
    "# Fill missing values with the median of each column\n",
    "X = X.fillna(X.median())\n",
    "\n",
    "# Split the data into training and testing sets\n",
    "X_train, X_test, y_train, y_test = train_test_split(X, y, test_size=0.2, random_state=42)\n",
    "\n",
    "# Create and train the logistic regression model\n",
    "log_reg = LogisticRegression()\n",
    "log_reg.fit(X_train, y_train)\n",
    "\n",
    "# Make predictions and evaluate the model\n",
    "y_pred = log_reg.predict(X_test)\n",
    "accuracy = accuracy_score(y_test, y_pred)\n",
    "\n",
    "# Display the results\n",
    "print(\"Accuracy:\", accuracy)\n"
   ]
  },
  {
   "cell_type": "code",
   "execution_count": null,
   "metadata": {},
   "outputs": [],
   "source": []
  },
  {
   "cell_type": "code",
   "execution_count": null,
   "metadata": {},
   "outputs": [],
   "source": []
  }
 ],
 "metadata": {
  "kernelspec": {
   "display_name": "Python 3",
   "language": "python",
   "name": "python3"
  },
  "language_info": {
   "codemirror_mode": {
    "name": "ipython",
    "version": 3
   },
   "file_extension": ".py",
   "mimetype": "text/x-python",
   "name": "python",
   "nbconvert_exporter": "python",
   "pygments_lexer": "ipython3",
   "version": "3.12.5"
  }
 },
 "nbformat": 4,
 "nbformat_minor": 2
}
