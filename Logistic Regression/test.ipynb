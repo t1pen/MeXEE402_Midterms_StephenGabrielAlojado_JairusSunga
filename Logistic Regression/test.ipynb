{
 "cells": [
  {
   "cell_type": "code",
   "execution_count": 32,
   "metadata": {},
   "outputs": [
    {
     "name": "stdout",
     "output_type": "stream",
     "text": [
      "Cross-Validation Accuracy Scores: [0.49473684 0.50676692 0.49648947 0.49047141 0.50651956]\n",
      "Mean CV Accuracy: 0.49899684014449364\n",
      "Standard Deviation of CV Accuracy: 0.006543436041434585\n"
     ]
    }
   ],
   "source": [
    "import pandas as pd\n",
    "from sklearn.model_selection import StratifiedKFold, cross_val_score\n",
    "from sklearn.linear_model import LogisticRegression\n",
    "from sklearn.metrics import accuracy_score\n",
    "from sklearn.preprocessing import LabelEncoder, StandardScaler\n",
    "from sklearn.impute import SimpleImputer\n",
    "from imblearn.over_sampling import SMOTE\n",
    "from sklearn.pipeline import Pipeline\n",
    "from sklearn.model_selection import train_test_split\n",
    "\n",
    "# Load and preprocess the data\n",
    "data = pd.read_csv('Customer-survey-data.csv')\n",
    "\n",
    "# Convert 'yes'/'no' in 'Was your order accurate?' column to binary 0/1\n",
    "encoder = LabelEncoder()\n",
    "data['Was your order accurate? Please respond yes or no.'] = encoder.fit_transform(\n",
    "    data['Was your order accurate? Please respond yes or no.']\n",
    ")\n",
    "\n",
    "# Handle missing values by imputing with the mean\n",
    "imputer = SimpleImputer(strategy='mean')\n",
    "X = data.drop(['Customer', 'Was your order accurate? Please respond yes or no.'], axis=1)\n",
    "X = pd.DataFrame(imputer.fit_transform(X), columns=X.columns)\n",
    "\n",
    "# Define the target variable as binary\n",
    "y = data['Was your order accurate? Please respond yes or no.'].apply(lambda x: 1 if x == 1 else 0)\n",
    "\n",
    "# Feature Engineering: Select top features and add interaction terms\n",
    "top_features = [\n",
    "    'How satisfied were you with your overall delivery experience at Ali?                    1-5 where 1 = extremely dissatisfied and 5 = extremely satisfied',\n",
    "    'How satisfied were you with the quality of the food at Alis?                             1-5 where 1 = extremely dissatisfied and 5 = extremely satisfied',\n",
    "    'How satisfied were you with the speed of delivery at Alis?                                1-5 where 1 = extremely dissatisfied and 5 = extremely satisfied'\n",
    "]\n",
    "X = X[top_features]\n",
    "X['delivery_quality_interaction'] = X[top_features[0]] * X[top_features[1]]\n",
    "X['delivery_speed_interaction'] = X[top_features[0]] * X[top_features[2]]\n",
    "X['quality_speed_interaction'] = X[top_features[1]] * X[top_features[2]]\n",
    "\n",
    "# Standardize the data\n",
    "scaler = StandardScaler()\n",
    "X = pd.DataFrame(scaler.fit_transform(X), columns=X.columns)\n",
    "\n",
    "# Apply SMOTE for balancing\n",
    "X_train, X_test, y_train, y_test = train_test_split(X, y, test_size=0.3, random_state=0)\n",
    "smote = SMOTE(random_state=0)\n",
    "X_train_smote, y_train_smote = smote.fit_resample(X_train, y_train)\n",
    "\n",
    "# Logistic Regression Model with Cross-Validation\n",
    "log_reg_model = LogisticRegression(class_weight='balanced', max_iter=1000)\n",
    "stratified_kfold = StratifiedKFold(n_splits=5)\n",
    "\n",
    "# Evaluate with cross-validation\n",
    "cv_scores = cross_val_score(log_reg_model, X_train_smote, y_train_smote, cv=stratified_kfold, scoring='accuracy')\n",
    "\n",
    "# Display cross-validation results\n",
    "print(\"Cross-Validation Accuracy Scores:\", cv_scores)\n",
    "print(\"Mean CV Accuracy:\", cv_scores.mean())\n",
    "print(\"Standard Deviation of CV Accuracy:\", cv_scores.std())\n"
   ]
  },
  {
   "cell_type": "code",
   "execution_count": null,
   "metadata": {},
   "outputs": [],
   "source": []
  },
  {
   "cell_type": "code",
   "execution_count": null,
   "metadata": {},
   "outputs": [],
   "source": []
  }
 ],
 "metadata": {
  "kernelspec": {
   "display_name": "Python 3",
   "language": "python",
   "name": "python3"
  },
  "language_info": {
   "codemirror_mode": {
    "name": "ipython",
    "version": 3
   },
   "file_extension": ".py",
   "mimetype": "text/x-python",
   "name": "python",
   "nbconvert_exporter": "python",
   "pygments_lexer": "ipython3",
   "version": "3.12.5"
  }
 },
 "nbformat": 4,
 "nbformat_minor": 2
}
