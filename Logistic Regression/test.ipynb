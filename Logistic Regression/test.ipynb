{
 "cells": [
  {
   "cell_type": "code",
   "execution_count": 5,
   "metadata": {},
   "outputs": [
    {
     "name": "stdout",
     "output_type": "stream",
     "text": [
      "Accuracy: 1.0\n"
     ]
    }
   ],
   "source": [
    "import pandas as pd\n",
    "from sklearn.model_selection import train_test_split\n",
    "from sklearn.linear_model import LogisticRegression\n",
    "from sklearn.metrics import classification_report, accuracy_score\n",
    "\n",
    "# Load the dataset\n",
    "file_path = 'Customer-survey-data.csv'  # Update with your file path if needed\n",
    "data = pd.read_csv(file_path)\n",
    "\n",
    "# Rename columns for easier access\n",
    "data.columns = [\n",
    "    'Customer',\n",
    "    'Overall_Delivery_Satisfaction',\n",
    "    'Food_Quality_Satisfaction',\n",
    "    'Delivery_Speed_Satisfaction',\n",
    "    'Order_Accuracy'\n",
    "]\n",
    "\n",
    "# Fill missing values in satisfaction columns with median\n",
    "data.fillna(data[['Overall_Delivery_Satisfaction', 'Food_Quality_Satisfaction', 'Delivery_Speed_Satisfaction']].median(), inplace=True)\n",
    "\n",
    "# Remove the Order Accuracy column\n",
    "data.drop(columns=['Order_Accuracy'], inplace=True)\n",
    "\n",
    "# Create Satisfaction Average and Binary variables\n",
    "data['Satisfaction_Average'] = data[['Overall_Delivery_Satisfaction', 'Food_Quality_Satisfaction', 'Delivery_Speed_Satisfaction']].mean(axis=1)\n",
    "data['Satisfaction_Binary'] = (data['Satisfaction_Average'] >= 3).astype(int)\n",
    "\n",
    "# Select features and target variable for logistic regression\n",
    "X = data[['Overall_Delivery_Satisfaction', 'Food_Quality_Satisfaction', 'Delivery_Speed_Satisfaction']]\n",
    "y = data['Satisfaction_Binary']\n",
    "\n",
    "# Split the data into training and testing sets\n",
    "X_train, X_test, y_train, y_test = train_test_split(X, y, test_size=0.3, random_state=0)\n",
    "\n",
    "# Initialize and fit the logistic regression model\n",
    "log_reg = LogisticRegression()\n",
    "log_reg.fit(X_train, y_train)\n",
    "\n",
    "# Make predictions on the test set\n",
    "y_pred = log_reg.predict(X_test)\n",
    "\n",
    "# Evaluate the model\n",
    "accuracy = accuracy_score(y_test, y_pred)\n",
    "report = classification_report(y_test, y_pred)\n",
    "\n",
    "# Print results\n",
    "print(\"Accuracy:\", accuracy)\n"
   ]
  },
  {
   "cell_type": "code",
   "execution_count": 16,
   "metadata": {},
   "outputs": [
    {
     "name": "stderr",
     "output_type": "stream",
     "text": [
      "c:\\Users\\saloj\\AppData\\Local\\Programs\\Python\\Python312\\Lib\\site-packages\\sklearn\\base.py:493: UserWarning: X does not have valid feature names, but LogisticRegression was fitted with feature names\n",
      "  warnings.warn(\n"
     ]
    },
    {
     "data": {
      "text/plain": [
       "array([1])"
      ]
     },
     "execution_count": 16,
     "metadata": {},
     "output_type": "execute_result"
    }
   ],
   "source": [
    "log_reg.predict([[4,3,2]])"
   ]
  },
  {
   "cell_type": "code",
   "execution_count": null,
   "metadata": {},
   "outputs": [],
   "source": []
  }
 ],
 "metadata": {
  "kernelspec": {
   "display_name": "Python 3",
   "language": "python",
   "name": "python3"
  },
  "language_info": {
   "codemirror_mode": {
    "name": "ipython",
    "version": 3
   },
   "file_extension": ".py",
   "mimetype": "text/x-python",
   "name": "python",
   "nbconvert_exporter": "python",
   "pygments_lexer": "ipython3",
   "version": "3.12.5"
  }
 },
 "nbformat": 4,
 "nbformat_minor": 2
}
