{
 "cells": [
  {
   "cell_type": "markdown",
   "metadata": {},
   "source": [
    "# Customer Satisfaction Analysis"
   ]
  },
  {
   "cell_type": "markdown",
   "metadata": {},
   "source": [
    "### Data Understanding"
   ]
  },
  {
   "cell_type": "markdown",
   "metadata": {},
   "source": [
    "This part is necessary for understanding the data that will be utilized in our logistic regression model. Undertanding the nature of the features and samples is important for effective data processing, which will facilitate more accurate results in the subsequent stages of model development."
   ]
  },
  {
   "cell_type": "markdown",
   "metadata": {},
   "source": [
    "#### Import Libraries"
   ]
  },
  {
   "cell_type": "code",
   "execution_count": 187,
   "metadata": {},
   "outputs": [],
   "source": [
    "import pandas as pd\n",
    "import matplotlib.pyplot as plt\n",
    "import seaborn as sns\n",
    "from sklearn.model_selection import train_test_split\n",
    "from sklearn.preprocessing import StandardScaler\n",
    "from sklearn.linear_model import LogisticRegression\n",
    "from sklearn.metrics import confusion_matrix\n",
    "from sklearn.metrics import accuracy_score\n",
    "\n",
    
   ]
  },
  {
   "cell_type": "markdown",
   "metadata": {},
   "source": [
    "#### Load dataset"
   ]
  },
  {
   "cell_type": "code",
   "execution_count": 188,
   "metadata": {},
   "outputs": [
    {
     "data": {
      "text/html": [
       "<div>\n",
       "<style scoped>\n",
       "    .dataframe tbody tr th:only-of-type {\n",
       "        vertical-align: middle;\n",
       "    }\n",
       "\n",
       "    .dataframe tbody tr th {\n",
       "        vertical-align: top;\n",
       "    }\n",
       "\n",
       "    .dataframe thead th {\n",
       "        text-align: right;\n",
       "    }\n",
       "</style>\n",
       "<table border=\"1\" class=\"dataframe\">\n",
       "  <thead>\n",
       "    <tr style=\"text-align: right;\">\n",
       "      <th></th>\n",
       "      <th>Customer</th>\n",
       "      <th>How satisfied were you with your overall delivery experience at Ali?                    1-5 where 1 = extremely dissatisfied and 5 = extremely satisfied</th>\n",
       "      <th>How satisfied were you with the quality of the food at Alis?                             1-5 where 1 = extremely dissatisfied and 5 = extremely satisfied</th>\n",
       "      <th>How satisfied were you with the speed of delivery at Alis?                                1-5 where 1 = extremely dissatisfied and 5 = extremely satisfied</th>\n",
       "      <th>Was your order accurate? Please respond yes or no.</th>\n",
       "    </tr>\n",
       "  </thead>\n",
       "  <tbody>\n",
       "    <tr>\n",
       "      <th>0</th>\n",
       "      <td>1</td>\n",
       "      <td>5.0</td>\n",
       "      <td>3.0</td>\n",
       "      <td>4.0</td>\n",
       "      <td>Yes</td>\n",
       "    </tr>\n",
       "    <tr>\n",
       "      <th>1</th>\n",
       "      <td>2</td>\n",
       "      <td>3.0</td>\n",
       "      <td>4.0</td>\n",
       "      <td>3.0</td>\n",
       "      <td>Yes</td>\n",
       "    </tr>\n",
       "    <tr>\n",
       "      <th>2</th>\n",
       "      <td>3</td>\n",
       "      <td>4.0</td>\n",
       "      <td>5.0</td>\n",
       "      <td>2.0</td>\n",
       "      <td>Yes</td>\n",
       "    </tr>\n",
       "    <tr>\n",
       "      <th>3</th>\n",
       "      <td>4</td>\n",
       "      <td>5.0</td>\n",
       "      <td>3.0</td>\n",
       "      <td>4.0</td>\n",
       "      <td>Yes</td>\n",
       "    </tr>\n",
       "    <tr>\n",
       "      <th>4</th>\n",
       "      <td>5</td>\n",
       "      <td>2.0</td>\n",
       "      <td>5.0</td>\n",
       "      <td>1.0</td>\n",
       "      <td>Yes</td>\n",
       "    </tr>\n",
       "  </tbody>\n",
       "</table>\n",
       "</div>"
      ],
      "text/plain": [
       "   Customer  \\\n",
       "0         1   \n",
       "1         2   \n",
       "2         3   \n",
       "3         4   \n",
       "4         5   \n",
       "\n",
       "   How satisfied were you with your overall delivery experience at Ali?                    1-5 where 1 = extremely dissatisfied and 5 = extremely satisfied  \\\n",
       "0                                                5.0                                                                                                          \n",
       "1                                                3.0                                                                                                          \n",
       "2                                                4.0                                                                                                          \n",
       "3                                                5.0                                                                                                          \n",
       "4                                                2.0                                                                                                          \n",
       "\n",
       "   How satisfied were you with the quality of the food at Alis?                             1-5 where 1 = extremely dissatisfied and 5 = extremely satisfied  \\\n",
       "0                                                3.0                                                                                                           \n",
       "1                                                4.0                                                                                                           \n",
       "2                                                5.0                                                                                                           \n",
       "3                                                3.0                                                                                                           \n",
       "4                                                5.0                                                                                                           \n",
       "\n",
       "   How satisfied were you with the speed of delivery at Alis?                                1-5 where 1 = extremely dissatisfied and 5 = extremely satisfied  \\\n",
       "0                                                4.0                                                                                                            \n",
       "1                                                3.0                                                                                                            \n",
       "2                                                2.0                                                                                                            \n",
       "3                                                4.0                                                                                                            \n",
       "4                                                1.0                                                                                                            \n",
       "\n",
       "  Was your order accurate? Please respond yes or no.  \n",
       "0                                                Yes  \n",
       "1                                                Yes  \n",
       "2                                                Yes  \n",
       "3                                                Yes  \n",
       "4                                                Yes  "
      ]
     },
     "execution_count": 188,
     "metadata": {},
     "output_type": "execute_result"
    }
   ],
   "source": [
    "dataset = pd.read_csv('Customer-survey-data.csv')\n",
    "dataset.head()"
   ]
  },
  {
   "cell_type": "markdown",
   "metadata": {},
   "source": [
    "### Reviewing the dataset"
   ]
  },
  {
   "cell_type": "markdown",
   "metadata": {},
   "source": [
    "#### 1. Verifying Dataset Dimensions"
   ]
  },
  {
   "cell_type": "code",
   "execution_count": 189,
   "metadata": {},
   "outputs": [
    {
     "name": "stdout",
     "output_type": "stream",
     "text": [
      "Number of rows: 10616\n",
      "Number of columns: 5\n"
     ]
    }
   ],
   "source": [
    "rows, columns = dataset.shape\n",
    "print(f\"Number of rows: {rows}\")\n",
    "print(f\"Number of columns: {columns}\")"
   ]
  },
  {
   "cell_type": "markdown",
   "metadata": {},
   "source": [
    "#### 2. Dataset Information"
   ]
  },
  {
   "cell_type": "code",
   "execution_count": 190,
   "metadata": {},
   "outputs": [
    {
     "name": "stdout",
     "output_type": "stream",
     "text": [
      "<class 'pandas.core.frame.DataFrame'>\n",
      "RangeIndex: 10616 entries, 0 to 10615\n",
      "Data columns (total 5 columns):\n",
      " #   Column                                                                                                                                                      Non-Null Count  Dtype  \n",
      "---  ------                                                                                                                                                      --------------  -----  \n",
      " 0   Customer                                                                                                                                                    10616 non-null  int64  \n",
      " 1   How satisfied were you with your overall delivery experience at Ali?                    1-5 where 1 = extremely dissatisfied and 5 = extremely satisfied    10198 non-null  float64\n",
      " 2   How satisfied were you with the quality of the food at Alis?                             1-5 where 1 = extremely dissatisfied and 5 = extremely satisfied   10364 non-null  float64\n",
      " 3   How satisfied were you with the speed of delivery at Alis?                                1-5 where 1 = extremely dissatisfied and 5 = extremely satisfied  10377 non-null  float64\n",
      " 4   Was your order accurate? Please respond yes or no.                                                                                                          9956 non-null   object \n",
      "dtypes: float64(3), int64(1), object(1)\n",
      "memory usage: 414.8+ KB\n"
     ]
    }
   ],
   "source": [
    "dataset.info()"
   ]
  },
  {
   "cell_type": "markdown",
   "metadata": {},
   "source": [
    "#### 4. Renaming Dataset Columns\n",
    "Renaming columns and making it shorter enhances clarity and readability also make it easier to understand the data at a glance."
   ]
  },
  {
   "cell_type": "code",
   "execution_count": 191,
   "metadata": {},
   "outputs": [
    {
     "data": {
      "text/html": [
       "<div>\n",
       "<style scoped>\n",
       "    .dataframe tbody tr th:only-of-type {\n",
       "        vertical-align: middle;\n",
       "    }\n",
       "\n",
       "    .dataframe tbody tr th {\n",
       "        vertical-align: top;\n",
       "    }\n",
       "\n",
       "    .dataframe thead th {\n",
       "        text-align: right;\n",
       "    }\n",
       "</style>\n",
       "<table border=\"1\" class=\"dataframe\">\n",
       "  <thead>\n",
       "    <tr style=\"text-align: right;\">\n",
       "      <th></th>\n",
       "      <th>Customer</th>\n",
       "      <th>delivery_experience</th>\n",
       "      <th>food_quality</th>\n",
       "      <th>delivery_speed</th>\n",
       "      <th>Order_Accuracy</th>\n",
       "    </tr>\n",
       "  </thead>\n",
       "  <tbody>\n",
       "    <tr>\n",
       "      <th>0</th>\n",
       "      <td>1</td>\n",
       "      <td>5.0</td>\n",
       "      <td>3.0</td>\n",
       "      <td>4.0</td>\n",
       "      <td>Yes</td>\n",
       "    </tr>\n",
       "    <tr>\n",
       "      <th>1</th>\n",
       "      <td>2</td>\n",
       "      <td>3.0</td>\n",
       "      <td>4.0</td>\n",
       "      <td>3.0</td>\n",
       "      <td>Yes</td>\n",
       "    </tr>\n",
       "    <tr>\n",
       "      <th>2</th>\n",
       "      <td>3</td>\n",
       "      <td>4.0</td>\n",
       "      <td>5.0</td>\n",
       "      <td>2.0</td>\n",
       "      <td>Yes</td>\n",
       "    </tr>\n",
       "    <tr>\n",
       "      <th>3</th>\n",
       "      <td>4</td>\n",
       "      <td>5.0</td>\n",
       "      <td>3.0</td>\n",
       "      <td>4.0</td>\n",
       "      <td>Yes</td>\n",
       "    </tr>\n",
       "    <tr>\n",
       "      <th>4</th>\n",
       "      <td>5</td>\n",
       "      <td>2.0</td>\n",
       "      <td>5.0</td>\n",
       "      <td>1.0</td>\n",
       "      <td>Yes</td>\n",
       "    </tr>\n",
       "    <tr>\n",
       "      <th>...</th>\n",
       "      <td>...</td>\n",
       "      <td>...</td>\n",
       "      <td>...</td>\n",
       "      <td>...</td>\n",
       "      <td>...</td>\n",
       "    </tr>\n",
       "    <tr>\n",
       "      <th>10611</th>\n",
       "      <td>10612</td>\n",
       "      <td>4.0</td>\n",
       "      <td>2.0</td>\n",
       "      <td>3.0</td>\n",
       "      <td>Yes</td>\n",
       "    </tr>\n",
       "    <tr>\n",
       "      <th>10612</th>\n",
       "      <td>10613</td>\n",
       "      <td>3.0</td>\n",
       "      <td>3.0</td>\n",
       "      <td>3.0</td>\n",
       "      <td>Yes</td>\n",
       "    </tr>\n",
       "    <tr>\n",
       "      <th>10613</th>\n",
       "      <td>10614</td>\n",
       "      <td>5.0</td>\n",
       "      <td>3.0</td>\n",
       "      <td>3.0</td>\n",
       "      <td>Yes</td>\n",
       "    </tr>\n",
       "    <tr>\n",
       "      <th>10614</th>\n",
       "      <td>10615</td>\n",
       "      <td>3.0</td>\n",
       "      <td>3.0</td>\n",
       "      <td>3.0</td>\n",
       "      <td>Yes</td>\n",
       "    </tr>\n",
       "    <tr>\n",
       "      <th>10615</th>\n",
       "      <td>10616</td>\n",
       "      <td>1.0</td>\n",
       "      <td>3.0</td>\n",
       "      <td>3.0</td>\n",
       "      <td>Yes</td>\n",
       "    </tr>\n",
       "  </tbody>\n",
       "</table>\n",
       "<p>10616 rows × 5 columns</p>\n",
       "</div>"
      ],
      "text/plain": [
       "       Customer  delivery_experience  food_quality  delivery_speed  \\\n",
       "0             1                  5.0           3.0             4.0   \n",
       "1             2                  3.0           4.0             3.0   \n",
       "2             3                  4.0           5.0             2.0   \n",
       "3             4                  5.0           3.0             4.0   \n",
       "4             5                  2.0           5.0             1.0   \n",
       "...         ...                  ...           ...             ...   \n",
       "10611     10612                  4.0           2.0             3.0   \n",
       "10612     10613                  3.0           3.0             3.0   \n",
       "10613     10614                  5.0           3.0             3.0   \n",
       "10614     10615                  3.0           3.0             3.0   \n",
       "10615     10616                  1.0           3.0             3.0   \n",
       "\n",
       "      Order_Accuracy  \n",
       "0                Yes  \n",
       "1                Yes  \n",
       "2                Yes  \n",
       "3                Yes  \n",
       "4                Yes  \n",
       "...              ...  \n",
       "10611            Yes  \n",
       "10612            Yes  \n",
       "10613            Yes  \n",
       "10614            Yes  \n",
       "10615            Yes  \n",
       "\n",
       "[10616 rows x 5 columns]"
      ]
     },
     "execution_count": 191,
     "metadata": {},
     "output_type": "execute_result"
    }
   ],
   "source": [
    "dataset = dataset.rename(columns={'Customer': 'Customer',\n",
    "       'How satisfied were you with your overall delivery experience at Ali?                    1-5 where 1 = extremely dissatisfied and 5 = extremely satisfied': 'delivery_experience',\n",
    "       'How satisfied were you with the quality of the food at Alis?                             1-5 where 1 = extremely dissatisfied and 5 = extremely satisfied': 'food_quality',\n",
    "       'How satisfied were you with the speed of delivery at Alis?                                1-5 where 1 = extremely dissatisfied and 5 = extremely satisfied': 'delivery_speed',\n",
    "       'Was your order accurate? Please respond yes or no.': 'Order_Accuracy'})\n",
    "dataset"
   ]
  },
  {
   "cell_type": "code",
   "execution_count": 192,
   "metadata": {},
   "outputs": [
    {
     "name": "stdout",
     "output_type": "stream",
     "text": [
      "<class 'pandas.core.frame.DataFrame'>\n",
      "RangeIndex: 10616 entries, 0 to 10615\n",
      "Data columns (total 5 columns):\n",
      " #   Column               Non-Null Count  Dtype  \n",
      "---  ------               --------------  -----  \n",
      " 0   Customer             10616 non-null  int64  \n",
      " 1   delivery_experience  10198 non-null  float64\n",
      " 2   food_quality         10364 non-null  float64\n",
      " 3   delivery_speed       10377 non-null  float64\n",
      " 4   Order_Accuracy       9956 non-null   object \n",
      "dtypes: float64(3), int64(1), object(1)\n",
      "memory usage: 414.8+ KB\n"
     ]
    }
   ],
   "source": [
    "dataset.info()"
   ]
  },
  {
   "cell_type": "markdown",
   "metadata": {},
   "source": [
    "#### 5. Converting Order Accuracy Responses to Binary Values\n",
    "Many machine learning algorithms and statistical models require numeric input. Converting categorical responses (e.g., \"Yes\"/\"No\") to binary values (1/0) makes the data compatible for analysis."
   ]
  },
  {
   "cell_type": "code",
   "execution_count": 193,
   "metadata": {},
   "outputs": [
    {
     "data": {
      "text/html": [
       "<div>\n",
       "<style scoped>\n",
       "    .dataframe tbody tr th:only-of-type {\n",
       "        vertical-align: middle;\n",
       "    }\n",
       "\n",
       "    .dataframe tbody tr th {\n",
       "        vertical-align: top;\n",
       "    }\n",
       "\n",
       "    .dataframe thead th {\n",
       "        text-align: right;\n",
       "    }\n",
       "</style>\n",
       "<table border=\"1\" class=\"dataframe\">\n",
       "  <thead>\n",
       "    <tr style=\"text-align: right;\">\n",
       "      <th></th>\n",
       "      <th>Customer</th>\n",
       "      <th>delivery_experience</th>\n",
       "      <th>food_quality</th>\n",
       "      <th>delivery_speed</th>\n",
       "      <th>Order_Accuracy</th>\n",
       "    </tr>\n",
       "  </thead>\n",
       "  <tbody>\n",
       "    <tr>\n",
       "      <th>0</th>\n",
       "      <td>1</td>\n",
       "      <td>5.0</td>\n",
       "      <td>3.0</td>\n",
       "      <td>4.0</td>\n",
       "      <td>1.0</td>\n",
       "    </tr>\n",
       "    <tr>\n",
       "      <th>1</th>\n",
       "      <td>2</td>\n",
       "      <td>3.0</td>\n",
       "      <td>4.0</td>\n",
       "      <td>3.0</td>\n",
       "      <td>1.0</td>\n",
       "    </tr>\n",
       "    <tr>\n",
       "      <th>2</th>\n",
       "      <td>3</td>\n",
       "      <td>4.0</td>\n",
       "      <td>5.0</td>\n",
       "      <td>2.0</td>\n",
       "      <td>1.0</td>\n",
       "    </tr>\n",
       "    <tr>\n",
       "      <th>3</th>\n",
       "      <td>4</td>\n",
       "      <td>5.0</td>\n",
       "      <td>3.0</td>\n",
       "      <td>4.0</td>\n",
       "      <td>1.0</td>\n",
       "    </tr>\n",
       "    <tr>\n",
       "      <th>4</th>\n",
       "      <td>5</td>\n",
       "      <td>2.0</td>\n",
       "      <td>5.0</td>\n",
       "      <td>1.0</td>\n",
       "      <td>1.0</td>\n",
       "    </tr>\n",
       "    <tr>\n",
       "      <th>...</th>\n",
       "      <td>...</td>\n",
       "      <td>...</td>\n",
       "      <td>...</td>\n",
       "      <td>...</td>\n",
       "      <td>...</td>\n",
       "    </tr>\n",
       "    <tr>\n",
       "      <th>10611</th>\n",
       "      <td>10612</td>\n",
       "      <td>4.0</td>\n",
       "      <td>2.0</td>\n",
       "      <td>3.0</td>\n",
       "      <td>1.0</td>\n",
       "    </tr>\n",
       "    <tr>\n",
       "      <th>10612</th>\n",
       "      <td>10613</td>\n",
       "      <td>3.0</td>\n",
       "      <td>3.0</td>\n",
       "      <td>3.0</td>\n",
       "      <td>1.0</td>\n",
       "    </tr>\n",
       "    <tr>\n",
       "      <th>10613</th>\n",
       "      <td>10614</td>\n",
       "      <td>5.0</td>\n",
       "      <td>3.0</td>\n",
       "      <td>3.0</td>\n",
       "      <td>1.0</td>\n",
       "    </tr>\n",
       "    <tr>\n",
       "      <th>10614</th>\n",
       "      <td>10615</td>\n",
       "      <td>3.0</td>\n",
       "      <td>3.0</td>\n",
       "      <td>3.0</td>\n",
       "      <td>1.0</td>\n",
       "    </tr>\n",
       "    <tr>\n",
       "      <th>10615</th>\n",
       "      <td>10616</td>\n",
       "      <td>1.0</td>\n",
       "      <td>3.0</td>\n",
       "      <td>3.0</td>\n",
       "      <td>1.0</td>\n",
       "    </tr>\n",
       "  </tbody>\n",
       "</table>\n",
       "<p>10616 rows × 5 columns</p>\n",
       "</div>"
      ],
      "text/plain": [
       "       Customer  delivery_experience  food_quality  delivery_speed  \\\n",
       "0             1                  5.0           3.0             4.0   \n",
       "1             2                  3.0           4.0             3.0   \n",
       "2             3                  4.0           5.0             2.0   \n",
       "3             4                  5.0           3.0             4.0   \n",
       "4             5                  2.0           5.0             1.0   \n",
       "...         ...                  ...           ...             ...   \n",
       "10611     10612                  4.0           2.0             3.0   \n",
       "10612     10613                  3.0           3.0             3.0   \n",
       "10613     10614                  5.0           3.0             3.0   \n",
       "10614     10615                  3.0           3.0             3.0   \n",
       "10615     10616                  1.0           3.0             3.0   \n",
       "\n",
       "       Order_Accuracy  \n",
       "0                 1.0  \n",
       "1                 1.0  \n",
       "2                 1.0  \n",
       "3                 1.0  \n",
       "4                 1.0  \n",
       "...               ...  \n",
       "10611             1.0  \n",
       "10612             1.0  \n",
       "10613             1.0  \n",
       "10614             1.0  \n",
       "10615             1.0  \n",
       "\n",
       "[10616 rows x 5 columns]"
      ]
     },
     "execution_count": 193,
     "metadata": {},
     "output_type": "execute_result"
    }
   ],
   "source": [
    "dataset['Order_Accuracy'] = dataset['Order_Accuracy'].apply(lambda x: 1 if x == 'Yes' else 0 if x == 'No' else x)\n",
    "dataset"
   ]
  },
  {
   "cell_type": "markdown",
   "metadata": {},
   "source": [
    "#### 6. Convert 'Order_Accuracy' column to object type for categorical representation"
   ]
  },
  {
   "cell_type": "code",
   "execution_count": 194,
   "metadata": {},
   "outputs": [],
   "source": [
    "dataset['Order_Accuracy'] = dataset['Order_Accuracy'].astype('object')"
   ]
  },
  {
   "cell_type": "markdown",
   "metadata": {},
   "source": [
    "#### 7. Convert specified columns to appropriate numeric data types"
   ]
  },
  {
   "cell_type": "code",
   "execution_count": 195,
   "metadata": {},
   "outputs": [],
   "source": [
    "dataset['delivery_experience'] = dataset['delivery_experience'].astype('float64')\n",
    "dataset['food_quality'] = dataset['food_quality'].astype('float64')\n",
    "dataset['delivery_speed'] = dataset['delivery_speed'].astype('float64')\n",
    "dataset['Customer'] = dataset['Customer'].astype('int64')"
   ]
  },
  {
   "cell_type": "markdown",
   "metadata": {},
   "source": [
    "#### 8. Identify categorical and continuous features in the dataset"
   ]
  },
  {
   "cell_type": "code",
   "execution_count": 196,
   "metadata": {},
   "outputs": [
    {
     "name": "stdout",
     "output_type": "stream",
     "text": [
      "Number of categorical features: 1\n",
      "Number of continuous features: 3\n"
     ]
    }
   ],
   "source": [
    "categorical = dataset.select_dtypes(include=['object']).columns\n",
    "continuous = dataset.select_dtypes(include=['float64']).columns\n",
    "\n",
    "print(f\"Number of categorical features: {len(categorical)}\")\n",
    "print(f\"Number of continuous features: {len(continuous)}\")"
   ]
  },
  {
   "cell_type": "code",
   "execution_count": 197,
   "metadata": {},
   "outputs": [
    {
     "name": "stdout",
     "output_type": "stream",
     "text": [
      "\n",
      "Categorical Features:\n",
      "Index(['Order_Accuracy'], dtype='object')\n",
      "\n",
      "Continuous Features:\n",
      "Index(['delivery_experience', 'food_quality', 'delivery_speed'], dtype='object')\n"
     ]
    }
   ],
   "source": [
    "print(\"\\nCategorical Features:\")\n",
    "print(categorical)\n",
    "print(\"\\nContinuous Features:\")\n",
    "print(continuous)"
   ]
  },
  {
   "cell_type": "markdown",
   "metadata": {},
   "source": [
    "#### 9. Check for NaN values in each column of the dataset"
   ]
  },
  {
   "cell_type": "code",
   "execution_count": 198,
   "metadata": {},
   "outputs": [
    {
     "name": "stdout",
     "output_type": "stream",
     "text": [
      "Customer                 0\n",
      "delivery_experience    418\n",
      "food_quality           252\n",
      "delivery_speed         239\n",
      "Order_Accuracy         660\n",
      "dtype: int64\n"
     ]
    }
   ],
   "source": [
    "nan_counts = dataset.isna().sum()\n",
    "print(nan_counts)"
   ]
  },
  {
   "cell_type": "markdown",
   "metadata": {},
   "source": [
    "#### 10. Filling Missing Values"
   ]
  },
  {
   "cell_type": "code",
   "execution_count": 199,
   "metadata": {},
   "outputs": [],
   "source": [
    "for col in dataset: \n",
    "    dataset[col] = dataset[col].fillna(dataset[col].median())"
   ]
  },
  {
   "cell_type": "markdown",
   "metadata": {},
   "source": [
    "#### 11. Check for NaN values after filling"
   ]
  },
  {
   "cell_type": "code",
   "execution_count": 200,
   "metadata": {},
   "outputs": [
    {
     "name": "stdout",
     "output_type": "stream",
     "text": [
      "NaN values in dataset after handling:\n",
      " Customer               0\n",
      "delivery_experience    0\n",
      "food_quality           0\n",
      "delivery_speed         0\n",
      "Order_Accuracy         0\n",
      "dtype: int64\n"
     ]
    }
   ],
   "source": [
    "print(\"NaN values in dataset after handling:\\n\", dataset.isna().sum())"
   ]
  },
  {
   "cell_type": "markdown",
   "metadata": {},
   "source": [
    "#### 12. Statistical Overview of the Dataset"
   ]
  },
  {
   "cell_type": "code",
   "execution_count": 201,
   "metadata": {},
   "outputs": [
    {
     "data": {
      "text/html": [
       "<div>\n",
       "<style scoped>\n",
       "    .dataframe tbody tr th:only-of-type {\n",
       "        vertical-align: middle;\n",
       "    }\n",
       "\n",
       "    .dataframe tbody tr th {\n",
       "        vertical-align: top;\n",
       "    }\n",
       "\n",
       "    .dataframe thead th {\n",
       "        text-align: right;\n",
       "    }\n",
       "</style>\n",
       "<table border=\"1\" class=\"dataframe\">\n",
       "  <thead>\n",
       "    <tr style=\"text-align: right;\">\n",
       "      <th></th>\n",
       "      <th>Customer</th>\n",
       "      <th>delivery_experience</th>\n",
       "      <th>food_quality</th>\n",
       "      <th>delivery_speed</th>\n",
       "    </tr>\n",
       "  </thead>\n",
       "  <tbody>\n",
       "    <tr>\n",
       "      <th>count</th>\n",
       "      <td>10616.000000</td>\n",
       "      <td>10616.000000</td>\n",
       "      <td>10616.000000</td>\n",
       "      <td>10616.000000</td>\n",
       "    </tr>\n",
       "    <tr>\n",
       "      <th>mean</th>\n",
       "      <td>5308.500000</td>\n",
       "      <td>3.312453</td>\n",
       "      <td>3.324133</td>\n",
       "      <td>3.315656</td>\n",
       "    </tr>\n",
       "    <tr>\n",
       "      <th>std</th>\n",
       "      <td>3064.719563</td>\n",
       "      <td>1.392957</td>\n",
       "      <td>1.398730</td>\n",
       "      <td>1.393790</td>\n",
       "    </tr>\n",
       "    <tr>\n",
       "      <th>min</th>\n",
       "      <td>1.000000</td>\n",
       "      <td>1.000000</td>\n",
       "      <td>1.000000</td>\n",
       "      <td>1.000000</td>\n",
       "    </tr>\n",
       "    <tr>\n",
       "      <th>25%</th>\n",
       "      <td>2654.750000</td>\n",
       "      <td>2.000000</td>\n",
       "      <td>2.000000</td>\n",
       "      <td>2.000000</td>\n",
       "    </tr>\n",
       "    <tr>\n",
       "      <th>50%</th>\n",
       "      <td>5308.500000</td>\n",
       "      <td>3.000000</td>\n",
       "      <td>3.000000</td>\n",
       "      <td>3.000000</td>\n",
       "    </tr>\n",
       "    <tr>\n",
       "      <th>75%</th>\n",
       "      <td>7962.250000</td>\n",
       "      <td>5.000000</td>\n",
       "      <td>5.000000</td>\n",
       "      <td>5.000000</td>\n",
       "    </tr>\n",
       "    <tr>\n",
       "      <th>max</th>\n",
       "      <td>10616.000000</td>\n",
       "      <td>5.000000</td>\n",
       "      <td>5.000000</td>\n",
       "      <td>5.000000</td>\n",
       "    </tr>\n",
       "  </tbody>\n",
       "</table>\n",
       "</div>"
      ],
      "text/plain": [
       "           Customer  delivery_experience  food_quality  delivery_speed\n",
       "count  10616.000000         10616.000000  10616.000000    10616.000000\n",
       "mean    5308.500000             3.312453      3.324133        3.315656\n",
       "std     3064.719563             1.392957      1.398730        1.393790\n",
       "min        1.000000             1.000000      1.000000        1.000000\n",
       "25%     2654.750000             2.000000      2.000000        2.000000\n",
       "50%     5308.500000             3.000000      3.000000        3.000000\n",
       "75%     7962.250000             5.000000      5.000000        5.000000\n",
       "max    10616.000000             5.000000      5.000000        5.000000"
      ]
     },
     "execution_count": 201,
     "metadata": {},
     "output_type": "execute_result"
    }
   ],
   "source": [
    "dataset.describe()"
   ]
  },
  {
   "cell_type": "markdown",
   "metadata": {},
   "source": [
    "### Data Visualization"
   ]
  },
  {
   "cell_type": "markdown",
   "metadata": {},
   "source": [
    "#### 1. Visualizing Categorical Data"
   ]
  },
  {
   "cell_type": "code",
   "execution_count": 202,
   "metadata": {},
   "outputs": [
    {
     "name": "stderr",
     "output_type": "stream",
     "text": [
      "C:\\Users\\saloj\\AppData\\Local\\Temp\\ipykernel_26296\\4228148433.py:7: FutureWarning: \n",
      "\n",
      "Passing `palette` without assigning `hue` is deprecated and will be removed in v0.14.0. Assign the `x` variable to `hue` and set `legend=False` for the same effect.\n",
      "\n",
      "  sns.countplot(x=feature, data=dataset, palette='viridis')\n"
     ]
    },
    {
     "data": {
      "image/png": "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",
      "text/plain": [
       "<Figure size 800x500 with 1 Axes>"
      ]
     },
     "metadata": {},
     "output_type": "display_data"
    }
   ],
   "source": [
    "categorical_features = ['Order_Accuracy']\n",
    "\n",
    "plt.figure(figsize=(8, 5))\n",
    "\n",
    "for feature in categorical_features:\n",
    "    plt.subplot(1, 1, 1)\n",
    "    sns.countplot(x=feature, data=dataset, palette='viridis')\n",
    "    plt.title(f'Count of Responses for {feature}')\n",
    "    plt.xlabel(feature)\n",
    "    plt.ylabel('Count')\n",
    "\n",
    "plt.tight_layout()\n",
    "plt.show()"
   ]
  },
  {
   "cell_type": "markdown",
   "metadata": {},
   "source": [
    "#### 2.Visualizing Continuous Data"
   ]
  },
  {
   "cell_type": "code",
   "execution_count": 238,
   "metadata": {},
   "outputs": [
    {
     "data": {
      "image/png": "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",
      "text/plain": [
       "<Figure size 1500x500 with 3 Axes>"
      ]
     },
     "metadata": {},
     "output_type": "display_data"
    }
   ],
   "source": [
    "# Define the continuous features\n",
    "continuous_features = ['delivery_experience', 'food_quality', 'delivery_speed']\n",
    "\n",
    "plt.figure(figsize=(15, 5))\n",
    "\n",
    "# Loop through each feature and use countplot\n",
    "for i, feature in enumerate(continuous_features):\n",
    "    plt.subplot(1, 3, i + 1)\n",
    "    sns.countplot(x=dataset[feature].round(), hue=dataset[feature].round(), data=dataset, palette='tab10', legend=False)\n",
    "    plt.title(f'Distribution of {feature}')\n",
    "    plt.xlabel(feature)\n",
    "    plt.ylabel('Frequency')\n",
    "\n",
    "plt.tight_layout()\n",
    "plt.show()"
   ]
  },
  {
   "cell_type": "code",
   "execution_count": 237,
   "metadata": {},
   "outputs": [
    {
     "data": {
      "image/png": "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",
      "text/plain": [
       "<Figure size 1500x500 with 1 Axes>"
      ]
     },
     "metadata": {},
     "output_type": "display_data"
    }
   ],
   "source": [
    "plt.figure(figsize=(15, 5))\n",
    "sns.boxplot(data=dataset[continuous_features])\n",
    "plt.title('Box Plot of Continuous Features')\n",
    "plt.ylabel('Values')\n",
    "plt.show()"
   ]
  },
  {
   "cell_type": "code",
   "execution_count": 242,
   "metadata": {},
   "outputs": [
    {
     "data": {
      "image/png": "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",
      "text/plain": [
       "<Figure size 1500x500 with 3 Axes>"
      ]
     },
     "metadata": {},
     "output_type": "display_data"
    }
   ],
   "source": [
    "# Define the continuous features\n",
    "continuous_features = ['delivery_experience', 'food_quality', 'delivery_speed']\n",
    "\n",
    "plt.figure(figsize=(15, 5))\n",
    "\n",
    "# Loop through each feature and plot a boxplot against `Order_Accuracy`\n",
    "for i, feature in enumerate(continuous_features):\n",
    "    plt.subplot(1, 3, i + 1)\n",
    "    sns.boxplot(x='Order_Accuracy', y=feature, hue='Order_Accuracy', data=dataset, palette='tab10', legend=False)\n",
    "    plt.title(f'{feature} by Order Accuracy')\n",
    "    plt.xlabel('Order Accurate')\n",
    "    plt.ylabel(feature)\n",
    "\n",
    "plt.tight_layout()\n",
    "plt.show()"
   ]
  },
  {
   "cell_type": "code",
   "execution_count": 226,
   "metadata": {},
   "outputs": [
    {
     "data": {
      "image/png": "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",
      "text/plain": [
       "<Figure size 1500x1000 with 2 Axes>"
      ]
     },
     "metadata": {},
     "output_type": "display_data"
    }
   ],
   "source": [
    "correlation_matrix = dataset.corr()\n",
    "\n",
    "plt.figure(figsize=(15, 10))\n",
    "\n",
    "sns.heatmap(correlation_matrix, annot=True, fmt=\".2f\", cmap='coolwarm', square=True, \n",
    "            cbar_kws={\"shrink\": .8}, linewidths=0.5)\n",
    "\n",
    "plt.title('Correlation Heatmap of Customer Satisfaction Variables', fontsize=16)\n",
    "\n",
    "plt.show()"
   ]
  },
  {
   "cell_type": "markdown",
   "metadata": {},
   "source": [
    "### Getting the inputs and output"
   ]
  },
  {
   "cell_type": "code",
   "execution_count": 206,
   "metadata": {},
   "outputs": [],
   "source": [
    "X = dataset.iloc[:,1:-1].values\n",
    "y = dataset.iloc[:,-1].values"
   ]
  },
  {
   "cell_type": "code",
   "execution_count": 207,
   "metadata": {},
   "outputs": [
    {
     "data": {
      "text/plain": [
       "array([[5., 3., 4.],\n",
       "       [3., 4., 3.],\n",
       "       [4., 5., 2.],\n",
       "       ...,\n",
       "       [5., 3., 3.],\n",
       "       [3., 3., 3.],\n",
       "       [1., 3., 3.]])"
      ]
     },
     "execution_count": 207,
     "metadata": {},
     "output_type": "execute_result"
    }
   ],
   "source": [
    "X"
   ]
  },
  {
   "cell_type": "code",
   "execution_count": 208,
   "metadata": {},
   "outputs": [
    {
     "data": {
      "text/plain": [
       "array([1.0, 1.0, 1.0, ..., 1.0, 1.0, 1.0], dtype=object)"
      ]
     },
     "execution_count": 208,
     "metadata": {},
     "output_type": "execute_result"
    }
   ],
   "source": [
    "y"
   ]
  },
  {
   "cell_type": "markdown",
   "metadata": {},
   "source": [
    "### Creating the Training Set and the Test Set"
   ]
  },
  {
   "cell_type": "code",
   "execution_count": 209,
   "metadata": {},
   "outputs": [],
   "source": [
    "X_train, X_test, y_train, y_test = train_test_split(X, y, test_size = 0.2, random_state = 0)"
   ]
  },
  {
   "cell_type": "code",
   "execution_count": 210,
   "metadata": {},
   "outputs": [
    {
     "data": {
      "text/plain": [
       "array([[5., 5., 5.],\n",
       "       [3., 3., 3.],\n",
       "       [5., 5., 5.],\n",
       "       ...,\n",
       "       [5., 3., 3.],\n",
       "       [3., 5., 3.],\n",
       "       [1., 3., 5.]])"
      ]
     },
     "execution_count": 210,
     "metadata": {},
     "output_type": "execute_result"
    }
   ],
   "source": [
    "X_train"
   ]
  },
  {
   "cell_type": "code",
   "execution_count": 211,
   "metadata": {},
   "outputs": [
    {
     "data": {
      "text/plain": [
       "array([[3., 3., 3.],\n",
       "       [2., 2., 5.],\n",
       "       [4., 3., 3.],\n",
       "       ...,\n",
       "       [5., 5., 5.],\n",
       "       [3., 3., 3.],\n",
       "       [4., 4., 1.]])"
      ]
     },
     "execution_count": 211,
     "metadata": {},
     "output_type": "execute_result"
    }
   ],
   "source": [
    "X_test"
   ]
  },
  {
   "cell_type": "code",
   "execution_count": 212,
   "metadata": {},
   "outputs": [
    {
     "data": {
      "text/plain": [
       "array([1.0, 1.0, 1.0, ..., 1.0, 0.0, 1.0], dtype=object)"
      ]
     },
     "execution_count": 212,
     "metadata": {},
     "output_type": "execute_result"
    }
   ],
   "source": [
    "y_train"
   ]
  },
  {
   "cell_type": "code",
   "execution_count": 213,
   "metadata": {},
   "outputs": [
    {
     "data": {
      "text/plain": [
       "array([1.0, 1.0, 0.0, ..., 0.0, 1.0, 1.0], dtype=object)"
      ]
     },
     "execution_count": 213,
     "metadata": {},
     "output_type": "execute_result"
    }
   ],
   "source": [
    "y_test"
   ]
  },
  {
   "cell_type": "markdown",
   "metadata": {},
   "source": [
    "### Feature Scaling"
   ]
  },
  {
   "cell_type": "code",
   "execution_count": 214,
   "metadata": {},
   "outputs": [],
   "source": [
    " \n",
    "sc = StandardScaler()\n",
    "X_train = sc.fit_transform(X_train)"
   ]
  },
  {
   "cell_type": "code",
   "execution_count": 215,
   "metadata": {},
   "outputs": [
    {
     "data": {
      "text/plain": [
       "array([[ 1.21762205,  1.20312471,  1.21596761],\n",
       "       [-0.21999303, -0.22581725, -0.21660688],\n",
       "       [ 1.21762205,  1.20312471,  1.21596761],\n",
       "       ...,\n",
       "       [ 1.21762205, -0.22581725, -0.21660688],\n",
       "       [-0.21999303,  1.20312471, -0.21660688],\n",
       "       [-1.6576081 , -0.22581725,  1.21596761]])"
      ]
     },
     "execution_count": 215,
     "metadata": {},
     "output_type": "execute_result"
    }
   ],
   "source": [
    "X_train"
   ]
  },
  {
   "cell_type": "markdown",
   "metadata": {},
   "source": [
    "## Building and training the model"
   ]
  },
  {
   "cell_type": "markdown",
   "metadata": {},
   "source": [
    "### 1. Building the model"
   ]
  },
  {
   "cell_type": "code",
   "execution_count": 216,
   "metadata": {},
   "outputs": [],
   "source": [
    "model = LogisticRegression(random_state = 0)"
   ]
  },
  {
   "cell_type": "markdown",
   "metadata": {},
   "source": [
    "### 2. Training the model"
   ]
  },
  {
   "cell_type": "code",
   "execution_count": 217,
   "metadata": {},
   "outputs": [
    {
     "ename": "ValueError",
     "evalue": "Unknown label type: unknown. Maybe you are trying to fit a classifier, which expects discrete classes on a regression target with continuous values.",
     "output_type": "error",
     "traceback": [
      "\u001b[1;31m---------------------------------------------------------------------------\u001b[0m",
      "\u001b[1;31mValueError\u001b[0m                                Traceback (most recent call last)",
      "Cell \u001b[1;32mIn[217], line 5\u001b[0m\n\u001b[0;32m      2\u001b[0m model \u001b[38;5;241m=\u001b[39m LogisticRegression(random_state\u001b[38;5;241m=\u001b[39m\u001b[38;5;241m0\u001b[39m, class_weight\u001b[38;5;241m=\u001b[39m\u001b[38;5;124m'\u001b[39m\u001b[38;5;124mbalanced\u001b[39m\u001b[38;5;124m'\u001b[39m)\n\u001b[0;32m      4\u001b[0m \u001b[38;5;66;03m# Train the model on the original X_train_scaled, y_train\u001b[39;00m\n\u001b[1;32m----> 5\u001b[0m \u001b[43mmodel\u001b[49m\u001b[38;5;241;43m.\u001b[39;49m\u001b[43mfit\u001b[49m\u001b[43m(\u001b[49m\u001b[43mX_train\u001b[49m\u001b[43m,\u001b[49m\u001b[43m \u001b[49m\u001b[43my_train\u001b[49m\u001b[43m)\u001b[49m\n",
      "File \u001b[1;32mc:\\Users\\saloj\\AppData\\Local\\Programs\\Python\\Python312\\Lib\\site-packages\\sklearn\\base.py:1473\u001b[0m, in \u001b[0;36m_fit_context.<locals>.decorator.<locals>.wrapper\u001b[1;34m(estimator, *args, **kwargs)\u001b[0m\n\u001b[0;32m   1466\u001b[0m     estimator\u001b[38;5;241m.\u001b[39m_validate_params()\n\u001b[0;32m   1468\u001b[0m \u001b[38;5;28;01mwith\u001b[39;00m config_context(\n\u001b[0;32m   1469\u001b[0m     skip_parameter_validation\u001b[38;5;241m=\u001b[39m(\n\u001b[0;32m   1470\u001b[0m         prefer_skip_nested_validation \u001b[38;5;129;01mor\u001b[39;00m global_skip_validation\n\u001b[0;32m   1471\u001b[0m     )\n\u001b[0;32m   1472\u001b[0m ):\n\u001b[1;32m-> 1473\u001b[0m     \u001b[38;5;28;01mreturn\u001b[39;00m \u001b[43mfit_method\u001b[49m\u001b[43m(\u001b[49m\u001b[43mestimator\u001b[49m\u001b[43m,\u001b[49m\u001b[43m \u001b[49m\u001b[38;5;241;43m*\u001b[39;49m\u001b[43margs\u001b[49m\u001b[43m,\u001b[49m\u001b[43m \u001b[49m\u001b[38;5;241;43m*\u001b[39;49m\u001b[38;5;241;43m*\u001b[39;49m\u001b[43mkwargs\u001b[49m\u001b[43m)\u001b[49m\n",
      "File \u001b[1;32mc:\\Users\\saloj\\AppData\\Local\\Programs\\Python\\Python312\\Lib\\site-packages\\sklearn\\linear_model\\_logistic.py:1231\u001b[0m, in \u001b[0;36mLogisticRegression.fit\u001b[1;34m(self, X, y, sample_weight)\u001b[0m\n\u001b[0;32m   1221\u001b[0m     _dtype \u001b[38;5;241m=\u001b[39m [np\u001b[38;5;241m.\u001b[39mfloat64, np\u001b[38;5;241m.\u001b[39mfloat32]\n\u001b[0;32m   1223\u001b[0m X, y \u001b[38;5;241m=\u001b[39m \u001b[38;5;28mself\u001b[39m\u001b[38;5;241m.\u001b[39m_validate_data(\n\u001b[0;32m   1224\u001b[0m     X,\n\u001b[0;32m   1225\u001b[0m     y,\n\u001b[1;32m   (...)\u001b[0m\n\u001b[0;32m   1229\u001b[0m     accept_large_sparse\u001b[38;5;241m=\u001b[39msolver \u001b[38;5;129;01mnot\u001b[39;00m \u001b[38;5;129;01min\u001b[39;00m [\u001b[38;5;124m\"\u001b[39m\u001b[38;5;124mliblinear\u001b[39m\u001b[38;5;124m\"\u001b[39m, \u001b[38;5;124m\"\u001b[39m\u001b[38;5;124msag\u001b[39m\u001b[38;5;124m\"\u001b[39m, \u001b[38;5;124m\"\u001b[39m\u001b[38;5;124msaga\u001b[39m\u001b[38;5;124m\"\u001b[39m],\n\u001b[0;32m   1230\u001b[0m )\n\u001b[1;32m-> 1231\u001b[0m \u001b[43mcheck_classification_targets\u001b[49m\u001b[43m(\u001b[49m\u001b[43my\u001b[49m\u001b[43m)\u001b[49m\n\u001b[0;32m   1232\u001b[0m \u001b[38;5;28mself\u001b[39m\u001b[38;5;241m.\u001b[39mclasses_ \u001b[38;5;241m=\u001b[39m np\u001b[38;5;241m.\u001b[39munique(y)\n\u001b[0;32m   1234\u001b[0m \u001b[38;5;66;03m# TODO(1.7) remove multi_class\u001b[39;00m\n",
      "File \u001b[1;32mc:\\Users\\saloj\\AppData\\Local\\Programs\\Python\\Python312\\Lib\\site-packages\\sklearn\\utils\\multiclass.py:219\u001b[0m, in \u001b[0;36mcheck_classification_targets\u001b[1;34m(y)\u001b[0m\n\u001b[0;32m    211\u001b[0m y_type \u001b[38;5;241m=\u001b[39m type_of_target(y, input_name\u001b[38;5;241m=\u001b[39m\u001b[38;5;124m\"\u001b[39m\u001b[38;5;124my\u001b[39m\u001b[38;5;124m\"\u001b[39m)\n\u001b[0;32m    212\u001b[0m \u001b[38;5;28;01mif\u001b[39;00m y_type \u001b[38;5;129;01mnot\u001b[39;00m \u001b[38;5;129;01min\u001b[39;00m [\n\u001b[0;32m    213\u001b[0m     \u001b[38;5;124m\"\u001b[39m\u001b[38;5;124mbinary\u001b[39m\u001b[38;5;124m\"\u001b[39m,\n\u001b[0;32m    214\u001b[0m     \u001b[38;5;124m\"\u001b[39m\u001b[38;5;124mmulticlass\u001b[39m\u001b[38;5;124m\"\u001b[39m,\n\u001b[1;32m   (...)\u001b[0m\n\u001b[0;32m    217\u001b[0m     \u001b[38;5;124m\"\u001b[39m\u001b[38;5;124mmultilabel-sequences\u001b[39m\u001b[38;5;124m\"\u001b[39m,\n\u001b[0;32m    218\u001b[0m ]:\n\u001b[1;32m--> 219\u001b[0m     \u001b[38;5;28;01mraise\u001b[39;00m \u001b[38;5;167;01mValueError\u001b[39;00m(\n\u001b[0;32m    220\u001b[0m         \u001b[38;5;124mf\u001b[39m\u001b[38;5;124m\"\u001b[39m\u001b[38;5;124mUnknown label type: \u001b[39m\u001b[38;5;132;01m{\u001b[39;00my_type\u001b[38;5;132;01m}\u001b[39;00m\u001b[38;5;124m. Maybe you are trying to fit a \u001b[39m\u001b[38;5;124m\"\u001b[39m\n\u001b[0;32m    221\u001b[0m         \u001b[38;5;124m\"\u001b[39m\u001b[38;5;124mclassifier, which expects discrete classes on a \u001b[39m\u001b[38;5;124m\"\u001b[39m\n\u001b[0;32m    222\u001b[0m         \u001b[38;5;124m\"\u001b[39m\u001b[38;5;124mregression target with continuous values.\u001b[39m\u001b[38;5;124m\"\u001b[39m\n\u001b[0;32m    223\u001b[0m     )\n",
      "\u001b[1;31mValueError\u001b[0m: Unknown label type: unknown. Maybe you are trying to fit a classifier, which expects discrete classes on a regression target with continuous values."
     ]
    }
   ],
   "source": [
    "# Set class_weight to 'balanced' to address class imbalance\n",
    "model = LogisticRegression(random_state=0, class_weight='balanced')\n",
    "\n",
    "# Train the model on the original X_train_scaled, y_train\n",
    "model.fit(X_train, y_train)\n"
   ]
  },
  {
   "cell_type": "markdown",
   "metadata": {},
   "source": [
    "### 3. Inference"
   ]
  },
  {
   "cell_type": "markdown",
   "metadata": {},
   "source": [
    "Making the predictons of the data points in the test set"
   ]
  },
  {
   "cell_type": "code",
   "execution_count": 1234,
   "metadata": {},
   "outputs": [],
   "source": [
    "y_pred = model.predict(sc.transform(X_test))"
   ]
  },
  {
   "cell_type": "code",
   "execution_count": 1235,
   "metadata": {},
   "outputs": [
    {
     "data": {
      "text/plain": [
       "array([0., 1., 1., ..., 1., 0., 0.])"
      ]
     },
     "execution_count": 1235,
     "metadata": {},
     "output_type": "execute_result"
    }
   ],
   "source": [
    "y_pred"
   ]
  },
  {
   "cell_type": "code",
   "execution_count": 1236,
   "metadata": {},
   "outputs": [
    {
     "data": {
      "text/plain": [
       "array([1.])"
      ]
     },
     "execution_count": 1236,
     "metadata": {},
     "output_type": "execute_result"
    }
   ],
   "source": [
    "model.predict(sc.transform([[1,2,3]]))"
   ]
  },
  {
   "cell_type": "markdown",
   "metadata": {},
   "source": [
    "## Evaluating the model "
   ]
  },
  {
   "cell_type": "markdown",
   "metadata": {},
   "source": [
    "#### 1. Predict on the test set"
   ]
  },
  {
   "cell_type": "code",
   "execution_count": 1237,
   "metadata": {},
   "outputs": [],
   "source": [
    "y_pred = model.predict(X_test)"
   ]
  },
  {
   "cell_type": "markdown",
   "metadata": {},
   "source": [
    "### 2. Confusion Matrix"
   ]
  },
  {
   "cell_type": "code",
   "execution_count": 1238,
   "metadata": {},
   "outputs": [
    {
     "name": "stdout",
     "output_type": "stream",
     "text": [
      "Confusion Matrix:\n",
      " [[  39  522]\n",
      " [ 134 1429]]\n"
     ]
    }
   ],
   "source": [
    "cm = confusion_matrix(y_test, y_pred)\n",
    "print(\"Confusion Matrix:\\n\", cm)"
   ]
  },
  {
   "cell_type": "markdown",
   "metadata": {},
   "source": [
    "### 3. Accuracy"
   ]
  },
  {
   "cell_type": "code",
   "execution_count": 1239,
   "metadata": {},
   "outputs": [
    {
     "data": {
      "text/plain": [
       "0.6911487758945386"
      ]
     },
     "execution_count": 1239,
     "metadata": {},
     "output_type": "execute_result"
    }
   ],
   "source": [
    "accuracy_score(y_test,y_pred)"
   ]
  },
  {
   "cell_type": "markdown",
   "metadata": {},
   "source": [
    "## Visualizing the Confusion Matrix"
   ]
  },
  {
   "cell_type": "code",
   "execution_count": 1240,
   "metadata": {},
   "outputs": [
    {
     "data": {
      "image/png": "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",
      "text/plain": [
       "<Figure size 640x480 with 2 Axes>"
      ]
     },
     "metadata": {},
     "output_type": "display_data"
    }
   ],
   "source": [
    "disp = ConfusionMatrixDisplay(confusion_matrix=cm, display_labels=model.classes_)\n",
    "disp.plot(cmap=plt.cm.Blues)\n",
    "plt.title('Confusion Matrix')\n",
    "plt.show()"
   ]
  },
  {
   "cell_type": "code",
   "execution_count": null,
   "metadata": {},
   "outputs": [],
   "source": []
  }
 ],
 "metadata": {
  "kernelspec": {
   "display_name": "Python 3",
   "language": "python",
   "name": "python3"
  },
  "language_info": {
   "codemirror_mode": {
    "name": "ipython",
    "version": 3
   },
   "file_extension": ".py",
   "mimetype": "text/x-python",
   "name": "python",
   "nbconvert_exporter": "python",
   "pygments_lexer": "ipython3",
   "version": "3.12.6"
  }
 },
 "nbformat": 4,
 "nbformat_minor": 2
}
